{
 "cells": [
  {
   "cell_type": "markdown",
   "metadata": {},
   "source": [
    "# Health Stats Part 1: Lists and Control Flow"
   ]
  },
  {
   "cell_type": "markdown",
   "metadata": {},
   "source": [
     "<!--- The Waist-Hip Ratio Description --->\n",
     "The Waist-Hip Ratio is defined by using the variables W for weight and H for height. This ratio shows the relationship between the circumfrence of the waist and the hips. This is calculated by dividing W by H (W/H=WHR)."]
  },
  {
   "cell_type": "markdown",
   "metadata": {},
   "source": [
    "## Source Data "
   ]
  },
  {
   "cell_type": "markdown",
   "metadata": {},
   "source": [
    "<!--- Replace the text below with a Markdown bullet list that defines the columns of the w2h_data.csv file. Be sure to indicate the data type for each column. --->\n",
    "* ID *"
   ]
  },
  {
   "cell_type": "markdown",
   "metadata": {},
   "source": [
    "## Data Import"
   ]
  },
  {
   "cell_type": "code",
   "execution_count": 1,
   "metadata": {
    "collapsed": true
   },
   "outputs": [],
   "source": [
    "# DO NOT EDIT ANYTHING IN THIS CELL\n",
    "# Goal: Extract the data from the file\n",
    "\n",
    "# open the w2h_data.csv for reading\n",
    "f = open(\"w2h_data.csv\", \"r\")\n",
    "\n",
    "# load the file into a list of strings, one string per line\n",
    "raw_lines = list(f)\n",
    "\n",
    "# close the file\n",
    "f.close()"
   ]
  },
  {
   "cell_type": "code",
   "execution_count": null,
   "metadata": {},
   "outputs": [],
   "source": [
    "# Goal: Scrub and convert the data, loading it into a new list called rows\n",
    "\n",
    "# Strip out newline '\\n' characters and converts to a list\n",
    "raw_rows = [r.rstrip('\\n').split(',') for r in raw_lines] # <--- Whoa. Why does this work? \n",
    "\n",
    "# Create a new list, starting with just the column names\n",
    "rows = list() \n",
    "rows.append(raw_rows[0]);\n",
    "\n",
    "# Convert each row_row, starting with the second\n",
    "for raw_row in raw_rows[1:]:\n",
    "    \n",
    "    # Note: the values in the raw_row list are all strings.\n",
    "    # Create a new list called row that converts each item in raw_row to the right data type  \n",
    "    row = [int(raw_row[0]),raw_row[1],raw_row[2],raw_row[3]] # FIX THIS; you'll need to use conversion functions\n",
    "    # Append the new row to the rows list\n",
    "    rows.append(row)\n",
    "    \n",
    "# from here on out use the rows list instead of raw_rows or raw_lines"
   ]
  },
  {
   "cell_type": "markdown",
   "metadata": {},
   "source": [
    "## Calculations"
   ]
  },
  {
   "cell_type": "code",
   "execution_count": null,
   "metadata": {
    "collapsed": true
   },
   "outputs": [],
   "source": [
    "# Goal: For each row of data calculate and store the w2h_ratio and shape.\n",
    "\n",
    "# Add column for the two new variables\n",
    "rows[0].extend([\"W2H Ratio\",\"Shape\"])\n",
    "\n",
    "# For each row in the rows list, calculate the waist to hips ratio and shape\n",
    "for row in rows[1:]:\n",
    "    # Calculate the w2h_ratio \n",
    "    w2h_ratio = 1 # FIX THIS; you will need to take care about data types\n",
    "    \n",
    "    # Based on the ratio and the gender, set the variable shape to either 'apple' or 'pear'\n",
    "    shape = 'Pear' # FIX THIS; you will need to use a conditional\n",
    "    \n",
    "    # Add the new data to the end of the row\n",
    "    row += [w2h_ratio, shape] # note: += is shorthand operator for the extend method used above\n",
    "    "
   ]
  },
  {
   "cell_type": "markdown",
   "metadata": {},
   "source": [
    "## Output"
   ]
  },
  {
   "cell_type": "code",
   "execution_count": null,
   "metadata": {},
   "outputs": [],
   "source": [
    "# Goal: pretty print the rows as an HTML table\n",
    "\n",
    "# Note: this works, but we can do this much better with pandas\n",
    "html_table = '<table><tr><th>'\n",
    "html_table += \"</th><th>\".join(rows[0])\n",
    "html_table += '</th></tr>'\n",
    "for row in rows[1:]:\n",
    "    html_table += \"<tr><td>\"\n",
    "    html_table += \"</td><td>\".join(str(col) for col in row)\n",
    "    html_table += \"</td></tr>\"\n",
    "html_table += \"</table>\"\n",
    "\n",
    "from IPython.display import HTML, display\n",
    "display(HTML(html_table))"
   ]
  }
 ],
 "metadata": {
  "kernelspec": {
   "display_name": "Python 3",
   "language": "python",
   "name": "python3"
  },
  "language_info": {
   "codemirror_mode": {
    "name": "ipython",
    "version": 3
   },
   "file_extension": ".py",
   "mimetype": "text/x-python",
   "name": "python",
   "nbconvert_exporter": "python",
   "pygments_lexer": "ipython3",
   "version": "3.6.5"
  }
 },
 "nbformat": 4,
 "nbformat_minor": 2
}
